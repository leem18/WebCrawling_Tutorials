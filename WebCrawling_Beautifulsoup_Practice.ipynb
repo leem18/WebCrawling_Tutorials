{
 "cells": [
  {
   "cell_type": "code",
   "execution_count": 2,
   "id": "f115a6de",
   "metadata": {},
   "outputs": [],
   "source": [
    "# Using requests.get() function, request the HTML from the website \n",
    "import requests\n",
    "url = 'https://www.google.com/'\n",
    "response = requests.get(url)"
   ]
  },
  {
   "cell_type": "code",
   "execution_count": 28,
   "id": "2175b3e7",
   "metadata": {},
   "outputs": [
    {
     "data": {
      "text/plain": [
       "<Response [200]>"
      ]
     },
     "execution_count": 28,
     "metadata": {},
     "output_type": "execute_result"
    }
   ],
   "source": [
    "#check what texts are included in the HTML information\n",
    "response.text"
   ]
  },
  {
   "cell_type": "code",
   "execution_count": 5,
   "id": "36d1fdb7",
   "metadata": {},
   "outputs": [],
   "source": [
    "# Using BeautifulSoup, put the text variable of response into 'soup' so that we can parse the text\n",
    "import bs4\n",
    "soup = bs4.BeautifulSoup(response.text, 'html.parser')"
   ]
  },
  {
   "cell_type": "code",
   "execution_count": 6,
   "id": "02e2c618",
   "metadata": {},
   "outputs": [
    {
     "data": {
      "text/plain": [
       "<div id=\"mngb\"><div id=\"gbar\"><nobr><b class=\"gb1\">Search</b> <a class=\"gb1\" href=\"https://www.google.com/imghp?hl=en&amp;tab=wi\">Images</a> <a class=\"gb1\" href=\"https://maps.google.com/maps?hl=en&amp;tab=wl\">Maps</a> <a class=\"gb1\" href=\"https://play.google.com/?hl=en&amp;tab=w8\">Play</a> <a class=\"gb1\" href=\"https://www.youtube.com/?tab=w1\">YouTube</a> <a class=\"gb1\" href=\"https://news.google.com/?tab=wn\">News</a> <a class=\"gb1\" href=\"https://mail.google.com/mail/?tab=wm\">Gmail</a> <a class=\"gb1\" href=\"https://drive.google.com/?tab=wo\">Drive</a> <a class=\"gb1\" href=\"https://www.google.com/intl/en/about/products?tab=wh\" style=\"text-decoration:none\"><u>More</u> »</a></nobr></div><div id=\"guser\" width=\"100%\"><nobr><span class=\"gbi\" id=\"gbn\"></span><span class=\"gbf\" id=\"gbf\"></span><span id=\"gbe\"></span><a class=\"gb4\" href=\"http://www.google.com/history/optout?hl=en\">Web History</a> | <a class=\"gb4\" href=\"/preferences?hl=en\">Settings</a> | <a class=\"gb4\" href=\"https://accounts.google.com/ServiceLogin?hl=en&amp;passive=true&amp;continue=https://www.google.com/&amp;ec=GAZAAQ\" id=\"gb_70\" target=\"_top\">Sign in</a></nobr></div><div class=\"gbh\" style=\"left:0\"></div><div class=\"gbh\" style=\"right:0\"></div></div>"
      ]
     },
     "execution_count": 6,
     "metadata": {},
     "output_type": "execute_result"
    }
   ],
   "source": [
    "# extract the information we want (the tag 'div' for here) using find()\n",
    "# If there are more than one tags with the same name, find() returns the first one\n",
    "soup.find('div')"
   ]
  },
  {
   "cell_type": "code",
   "execution_count": 29,
   "id": "106775cb",
   "metadata": {},
   "outputs": [
    {
     "data": {
      "text/plain": [
       "'Search Images Maps Play YouTube News Gmail Drive More »Web History | Settings | Sign in'"
      ]
     },
     "execution_count": 29,
     "metadata": {},
     "output_type": "execute_result"
    }
   ],
   "source": [
    "# If we put '.text' at the last, we can extract only text information inside the tag \n",
    "soup.find('div').text"
   ]
  },
  {
   "cell_type": "code",
   "execution_count": 31,
   "id": "e49a2e0e",
   "metadata": {},
   "outputs": [
    {
     "data": {
      "text/plain": [
       "<a class=\"gb1\" href=\"https://www.google.com/imghp?hl=en&amp;tab=wi\">Images</a>"
      ]
     },
     "execution_count": 31,
     "metadata": {},
     "output_type": "execute_result"
    }
   ],
   "source": [
    "# If we want to extract only 'Images' inside 'div' tag, \n",
    "# we can first extract 'a' tag in 'div' tag in which the 'Images' is located\n",
    "soup.find('div').find('a')"
   ]
  },
  {
   "cell_type": "code",
   "execution_count": 32,
   "id": "8088ebf0",
   "metadata": {},
   "outputs": [
    {
     "data": {
      "text/plain": [
       "'Images'"
      ]
     },
     "execution_count": 32,
     "metadata": {},
     "output_type": "execute_result"
    }
   ],
   "source": [
    "# Using '.text', we can extract the 'Images' only\n",
    "soup.find('div').find('a').text"
   ]
  },
  {
   "cell_type": "code",
   "execution_count": 15,
   "id": "c9b14e51",
   "metadata": {},
   "outputs": [
    {
     "data": {
      "text/plain": [
       "'https://www.google.com/imghp?hl=en&tab=wi'"
      ]
     },
     "execution_count": 15,
     "metadata": {},
     "output_type": "execute_result"
    }
   ],
   "source": [
    "# What if we want to extract the URL information next to 'href=' ?\n",
    "# This is called the 'attribute of tag.' When extracting the attribute, we have to use []\n",
    "soup.find('div').find('a')['href']"
   ]
  },
  {
   "cell_type": "code",
   "execution_count": 17,
   "id": "614706a9",
   "metadata": {},
   "outputs": [
    {
     "data": {
      "text/plain": [
       "<a class=\"gb4\" href=\"http://www.google.com/history/optout?hl=en\">Web History</a>"
      ]
     },
     "execution_count": 17,
     "metadata": {},
     "output_type": "execute_result"
    }
   ],
   "source": [
    "# If we want to find the tag with certain class, we can find it as following\n",
    "soup.find('div').find('a', {'class': 'gb4'})"
   ]
  },
  {
   "cell_type": "code",
   "execution_count": 19,
   "id": "6c8dea45",
   "metadata": {},
   "outputs": [
    {
     "data": {
      "text/plain": [
       "<a class=\"gb4\" href=\"/preferences?hl=en\">Settings</a>"
      ]
     },
     "execution_count": 19,
     "metadata": {},
     "output_type": "execute_result"
    }
   ],
   "source": [
    "# find() only returns the first tag. \n",
    "# So to extract the next 'a' tag, we can use '.next_sibling' twice\n",
    "soup.find('div').find('a', {'class': 'gb4'}).next_sibling.next_sibling"
   ]
  },
  {
   "cell_type": "code",
   "execution_count": 27,
   "id": "a3a5eb21",
   "metadata": {},
   "outputs": [
    {
     "data": {
      "text/plain": [
       "[<a class=\"gb4\" href=\"http://www.google.com/history/optout?hl=en\">Web History</a>,\n",
       " <a class=\"gb4\" href=\"/preferences?hl=en\">Settings</a>,\n",
       " <a class=\"gb4\" href=\"https://accounts.google.com/ServiceLogin?hl=en&amp;passive=true&amp;continue=https://www.google.com/&amp;ec=GAZAAQ\" id=\"gb_70\" target=\"_top\">Sign in</a>]"
      ]
     },
     "execution_count": 27,
     "metadata": {},
     "output_type": "execute_result"
    }
   ],
   "source": [
    "# We can also use find_all to extract several tags with the same class at once\n",
    "soup.find('div').find_all('a', {'class': 'gb4'})"
   ]
  },
  {
   "cell_type": "code",
   "execution_count": 26,
   "id": "4f6a20af",
   "metadata": {},
   "outputs": [
    {
     "name": "stdout",
     "output_type": "stream",
     "text": [
      "Web History\n",
      "Settings\n",
      "Sign in\n"
     ]
    }
   ],
   "source": [
    "tags = soup.find('div').find_all('a', {'class': 'gb4'})\n",
    "for tag in tags:\n",
    "    print(tag.text)"
   ]
  }
 ],
 "metadata": {
  "kernelspec": {
   "display_name": "Python 3",
   "language": "python",
   "name": "python3"
  },
  "language_info": {
   "codemirror_mode": {
    "name": "ipython",
    "version": 3
   },
   "file_extension": ".py",
   "mimetype": "text/x-python",
   "name": "python",
   "nbconvert_exporter": "python",
   "pygments_lexer": "ipython3",
   "version": "3.8.8"
  }
 },
 "nbformat": 4,
 "nbformat_minor": 5
}
